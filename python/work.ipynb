{
 "metadata": {
  "language_info": {
   "codemirror_mode": {
    "name": "ipython",
    "version": 3
   },
   "file_extension": ".py",
   "mimetype": "text/x-python",
   "name": "python",
   "nbconvert_exporter": "python",
   "pygments_lexer": "ipython3",
   "version": "3.6.8-final"
  },
  "orig_nbformat": 2,
  "kernelspec": {
   "name": "python3",
   "display_name": "Python 3.6.8 64-bit",
   "metadata": {
    "interpreter": {
     "hash": "d12147e31fbd1100804c429beef19e8422f9ce1711868fb67b052ed3030730b4"
    }
   }
  }
 },
 "nbformat": 4,
 "nbformat_minor": 2,
 "cells": [
  {
   "cell_type": "code",
   "execution_count": 200,
   "metadata": {},
   "outputs": [],
   "source": [
    "import os\n",
    "import pandas as pd"
   ]
  },
  {
   "cell_type": "code",
   "execution_count": 201,
   "metadata": {},
   "outputs": [],
   "source": [
    "test_numbers = [333992784, 8774503203, 9037593 , 99991 ]"
   ]
  },
  {
   "cell_type": "code",
   "execution_count": 202,
   "metadata": {},
   "outputs": [],
   "source": [
    "number = 12509"
   ]
  },
  {
   "cell_type": "code",
   "execution_count": 203,
   "metadata": {},
   "outputs": [],
   "source": [
    "def largest_number(num):\n",
    "    str_number = str(num)\n",
    "    str_number_list = [character for character in str_number]\n",
    "    str_number_list.sort(reverse=True)\n",
    "    final = int(''.join(str_number_list))\n",
    "    return final"
   ]
  },
  {
   "cell_type": "code",
   "execution_count": 204,
   "metadata": {},
   "outputs": [
    {
     "output_type": "execute_result",
     "data": {
      "text/plain": [
       "95210"
      ]
     },
     "metadata": {},
     "execution_count": 204
    }
   ],
   "source": [
    "sort_numbers(number)"
   ]
  },
  {
   "cell_type": "code",
   "execution_count": 205,
   "metadata": {},
   "outputs": [],
   "source": [
    "def increment_sort(num):\n",
    "    i = -1\n",
    "    string = str(num)\n",
    "    lrg_num = largest_number(string)\n",
    "\n",
    "    for n in [char for char in string]:\n",
    "        val = [character for character in str(lrg_num)][i]\n",
    "        next_val = [character for character in str(lrg_num)][i-1]\n",
    "        \n",
    "        if val == next_val:\n",
    "            continue\n",
    "        \n",
    "        ln_val_i = str(lrg_num).index(val)\n",
    "        ln_next_val_i = str(lrg_num).index(next_val)\n",
    "\n",
    "\n",
    "        sub_largest_num = largest_number(string[next_val_i:])\n",
    "\n",
    "        sub_num = int(string[next_val_i:])\n",
    "\n",
    "        if sub_num < sub_largest_num:\n",
    "            print('sub_num: ' + str(sub_num))\n",
    "            print('sub_largest_num: ' + str(sub_largest_num))\n",
    "            return int(string[:next_val_i] + str(sub_largest_num))\n",
    "        else:\n",
    "            i =i - 1\n",
    "        "
   ]
  },
  {
   "cell_type": "code",
   "execution_count": 206,
   "metadata": {},
   "outputs": [],
   "source": [
    "# increment_sort(number)"
   ]
  },
  {
   "cell_type": "code",
   "execution_count": 207,
   "metadata": {},
   "outputs": [
    {
     "output_type": "stream",
     "name": "stdout",
     "text": [
      "333992784\nsub_num: 2784\nsub_largest_num: 8742\n333998742\n8774503203\nsub_num: 3203\nsub_largest_num: 33200\n8774533200\n9037593\nsub_num: 37593\nsub_largest_num: 975330\n9975330\n-1\n"
     ]
    }
   ],
   "source": [
    "i = 0\n",
    "\n",
    "def next_biggest_number(num):\n",
    "    sorted_num = largest_number(num)\n",
    "    if num == sorted_num:\n",
    "        print(-1)\n",
    "    else:\n",
    "        print(num)\n",
    "        print(increment_sort(num))\n",
    "\n",
    "for num in test_numbers:\n",
    "    next_biggest_number(num)\n",
    "    "
   ]
  },
  {
   "cell_type": "code",
   "execution_count": null,
   "metadata": {},
   "outputs": [],
   "source": []
  }
 ]
}